{
 "cells": [
  {
   "cell_type": "code",
   "execution_count": 1,
   "id": "935fb51a",
   "metadata": {},
   "outputs": [],
   "source": [
    "from datetime import datetime as dt\n",
    "from typing import Iterable\n",
    "\n",
    "from dateutil import parser\n",
    "from pystac import Collection, Item, MediaType\n",
    "from pystac_client import Client, ItemSearch\n",
    "from pystac_client.stac_api_io import StacApiIO\n",
    "from urllib3 import Retry"
   ]
  },
  {
   "cell_type": "code",
   "execution_count": 2,
   "id": "4356ffbd",
   "metadata": {},
   "outputs": [
    {
     "name": "stdout",
     "output_type": "stream",
     "text": [
      "Item search: True\n",
      "canari\n",
      "icenet_north\n",
      "icenet_south\n"
     ]
    }
   ],
   "source": [
    "# Refer to pystac-client docs:\n",
    "# https://pystac-client.readthedocs.io/en/stable/usage.html\n",
    "\n",
    "retry = Retry(\n",
    "    total=5, backoff_factor=1, status_forcelist=[502, 503, 504], allowed_methods=None\n",
    ")\n",
    "stac_api_io = StacApiIO(max_retries=retry)\n",
    "\n",
    "catalog = Client.open(\n",
    "    \"http://localhost:8000\", stac_io=stac_api_io\n",
    ")\n",
    "\n",
    "# Checking if the API supports item searching\n",
    "item_search = catalog.conforms_to(\"ITEM_SEARCH\")\n",
    "print(\"Item search:\", item_search)\n",
    "\n",
    "# Get all available collections in STAC API\n",
    "for collection in catalog.get_all_collections():\n",
    "    print(collection.id)"
   ]
  },
  {
   "cell_type": "code",
   "execution_count": null,
   "id": "ff5a0647",
   "metadata": {},
   "outputs": [],
   "source": [
    "class STAC:\n",
    "    def __init__(self, STAC_FASTAPI_URL: str) -> None:\n",
    "        self._url = STAC_FASTAPI_URL\n",
    "        self._catalog = Client.open(STAC_FASTAPI_URL)\n",
    "\n",
    "    def _search_collection(self, collection_id) -> ItemSearch:\n",
    "        search = self._catalog.search(collections=[collection_id], max_items=None)\n",
    "        return search\n",
    "\n",
    "    def _search_item(\n",
    "        self, collection_id, item_id, max_items: int | None = None\n",
    "    ) -> ItemSearch:\n",
    "        search = self._catalog.search(\n",
    "            collections=[collection_id], ids=item_id, max_items=max_items\n",
    "        )\n",
    "        return search\n",
    "\n",
    "    def get_catalog_collection_ids(\n",
    "        self, resolve: bool = False\n",
    "    ) -> Iterable[Collection] | tuple[Collection]:\n",
    "        # Get all available collections in STAC API\n",
    "        collections = self._catalog.get_all_collections()\n",
    "        return tuple(collections) if resolve else collections\n",
    "\n",
    "    def get_collection_items(self, collection_id, resolve: bool = False):\n",
    "        collection = self._catalog.get_collection(collection_id)\n",
    "        items = collection.get_items()\n",
    "        return tuple(items) if resolve else items\n",
    "\n",
    "    def get_collection_extents(self, collection_id):\n",
    "        collection = self._catalog.get_collection(collection_id)\n",
    "        print(collection)\n",
    "        temporal_extent = collection.extent.temporal.intervals[0]\n",
    "        spatial_extent = collection.extent.spatial.bboxes[0]\n",
    "        return temporal_extent, spatial_extent\n",
    "\n",
    "    def get_collection_forecast_init_dates(self, collection_id) -> list[dt]:\n",
    "        items = self.get_collection_items(collection_id)\n",
    "        datetimes = sorted(\n",
    "            {item.datetime for item in items if item.datetime is not None}\n",
    "        )\n",
    "        return datetimes\n",
    "\n",
    "    def get_item(self, collection_id, item_id) -> Item:\n",
    "        # Using db likely to be faster than using get_collection_items, then filtering here in Python.\n",
    "        search = self._search_item(collection_id, item_id)\n",
    "        item = tuple(search.items())\n",
    "        if len(item) > 1:\n",
    "            raise ValueError(\n",
    "                f\"Multiple items with id {item_id} found within {collection_id} collection.\"\n",
    "            )\n",
    "        else:\n",
    "            item = item[0]\n",
    "        return item\n",
    "\n",
    "    def get_item_properties(self, collection_id, item_id):\n",
    "        item = self.get_item(collection_id, item_id)\n",
    "        return item.properties\n",
    "\n",
    "    def get_item_leadtime(self, collection_id, item_id) -> str:\n",
    "        properties = self.get_item_properties(collection_id, item_id)\n",
    "        return properties[\"forecast:leadtime\"]\n",
    "\n",
    "    def get_item_extents(self, collection_id, item_id):\n",
    "        item = self.get_item(collection_id, item_id)\n",
    "        item_props = item.properties\n",
    "        temporal_extent = (\n",
    "            item_props[\"forecast:reference_time\"],\n",
    "            item_props[\"forecast:end_time\"],\n",
    "        )\n",
    "        temporal_extent = [\n",
    "            parser.isoparse(iso_string) for iso_string in temporal_extent\n",
    "        ]\n",
    "        # Convert to match datetime like `get_collection_extents`.\n",
    "        spatial_extent = item.bbox\n",
    "        return temporal_extent, spatial_extent\n",
    "\n",
    "    def get_item_cogs(self, collection_id, item_id):\n",
    "        item = self.get_item(collection_id, item_id)\n",
    "        assets = item.get_assets(media_type=MediaType.COG, role=\"data\")\n",
    "        return assets\n"
   ]
  },
  {
   "cell_type": "code",
   "execution_count": 4,
   "id": "460fc7bf",
   "metadata": {},
   "outputs": [
    {
     "name": "stdout",
     "output_type": "stream",
     "text": [
      "<CollectionClient id=icenet_north>\n"
     ]
    }
   ],
   "source": [
    "STAC_FASTAPI_URL = \"http://localhost:8000\"\n",
    "collection_id = \"icenet_north\"\n",
    "\n",
    "stac = STAC(STAC_FASTAPI_URL)\n",
    "collections = stac.get_catalog_collection_ids(resolve=True)\n",
    "items = stac.get_collection_items(collection_id, resolve=True)\n",
    "forecast_init_dates = stac.get_collection_forecast_init_dates(collection_id)\n",
    "\n",
    "item_id = items[0].id\n",
    "leadtime = stac.get_item_leadtime(collection_id, item_id)\n",
    "collection_extents = stac.get_collection_extents(collection_id)\n",
    "item_extents = stac.get_item_extents(collection_id, item_id)\n"
   ]
  },
  {
   "cell_type": "code",
   "execution_count": 5,
   "id": "13f53f1d",
   "metadata": {},
   "outputs": [
    {
     "data": {
      "text/plain": [
       "{'2025-01-31 00:00': <Asset href=http://192.168.68.114:8001/data/cogs/icenet_north/2025-01-31/forecast_init_20250131_0000_lead_20250131_0000.tif>,\n",
       " '2025-02-01 00:00': <Asset href=http://192.168.68.114:8001/data/cogs/icenet_north/2025-01-31/forecast_init_20250131_0000_lead_20250201_0000.tif>,\n",
       " '2025-02-02 00:00': <Asset href=http://192.168.68.114:8001/data/cogs/icenet_north/2025-01-31/forecast_init_20250131_0000_lead_20250202_0000.tif>,\n",
       " '2025-02-03 00:00': <Asset href=http://192.168.68.114:8001/data/cogs/icenet_north/2025-01-31/forecast_init_20250131_0000_lead_20250203_0000.tif>,\n",
       " '2025-02-04 00:00': <Asset href=http://192.168.68.114:8001/data/cogs/icenet_north/2025-01-31/forecast_init_20250131_0000_lead_20250204_0000.tif>,\n",
       " '2025-02-05 00:00': <Asset href=http://192.168.68.114:8001/data/cogs/icenet_north/2025-01-31/forecast_init_20250131_0000_lead_20250205_0000.tif>,\n",
       " '2025-02-06 00:00': <Asset href=http://192.168.68.114:8001/data/cogs/icenet_north/2025-01-31/forecast_init_20250131_0000_lead_20250206_0000.tif>,\n",
       " '2025-02-07 00:00': <Asset href=http://192.168.68.114:8001/data/cogs/icenet_north/2025-01-31/forecast_init_20250131_0000_lead_20250207_0000.tif>,\n",
       " '2025-02-08 00:00': <Asset href=http://192.168.68.114:8001/data/cogs/icenet_north/2025-01-31/forecast_init_20250131_0000_lead_20250208_0000.tif>,\n",
       " '2025-02-09 00:00': <Asset href=http://192.168.68.114:8001/data/cogs/icenet_north/2025-01-31/forecast_init_20250131_0000_lead_20250209_0000.tif>,\n",
       " '2025-02-10 00:00': <Asset href=http://192.168.68.114:8001/data/cogs/icenet_north/2025-01-31/forecast_init_20250131_0000_lead_20250210_0000.tif>,\n",
       " '2025-02-11 00:00': <Asset href=http://192.168.68.114:8001/data/cogs/icenet_north/2025-01-31/forecast_init_20250131_0000_lead_20250211_0000.tif>,\n",
       " '2025-02-12 00:00': <Asset href=http://192.168.68.114:8001/data/cogs/icenet_north/2025-01-31/forecast_init_20250131_0000_lead_20250212_0000.tif>,\n",
       " '2025-02-13 00:00': <Asset href=http://192.168.68.114:8001/data/cogs/icenet_north/2025-01-31/forecast_init_20250131_0000_lead_20250213_0000.tif>,\n",
       " '2025-02-14 00:00': <Asset href=http://192.168.68.114:8001/data/cogs/icenet_north/2025-01-31/forecast_init_20250131_0000_lead_20250214_0000.tif>,\n",
       " '2025-02-15 00:00': <Asset href=http://192.168.68.114:8001/data/cogs/icenet_north/2025-01-31/forecast_init_20250131_0000_lead_20250215_0000.tif>,\n",
       " '2025-02-16 00:00': <Asset href=http://192.168.68.114:8001/data/cogs/icenet_north/2025-01-31/forecast_init_20250131_0000_lead_20250216_0000.tif>,\n",
       " '2025-02-17 00:00': <Asset href=http://192.168.68.114:8001/data/cogs/icenet_north/2025-01-31/forecast_init_20250131_0000_lead_20250217_0000.tif>,\n",
       " '2025-02-18 00:00': <Asset href=http://192.168.68.114:8001/data/cogs/icenet_north/2025-01-31/forecast_init_20250131_0000_lead_20250218_0000.tif>,\n",
       " '2025-02-19 00:00': <Asset href=http://192.168.68.114:8001/data/cogs/icenet_north/2025-01-31/forecast_init_20250131_0000_lead_20250219_0000.tif>,\n",
       " '2025-02-20 00:00': <Asset href=http://192.168.68.114:8001/data/cogs/icenet_north/2025-01-31/forecast_init_20250131_0000_lead_20250220_0000.tif>,\n",
       " '2025-02-21 00:00': <Asset href=http://192.168.68.114:8001/data/cogs/icenet_north/2025-01-31/forecast_init_20250131_0000_lead_20250221_0000.tif>,\n",
       " '2025-02-22 00:00': <Asset href=http://192.168.68.114:8001/data/cogs/icenet_north/2025-01-31/forecast_init_20250131_0000_lead_20250222_0000.tif>,\n",
       " '2025-02-23 00:00': <Asset href=http://192.168.68.114:8001/data/cogs/icenet_north/2025-01-31/forecast_init_20250131_0000_lead_20250223_0000.tif>,\n",
       " '2025-02-24 00:00': <Asset href=http://192.168.68.114:8001/data/cogs/icenet_north/2025-01-31/forecast_init_20250131_0000_lead_20250224_0000.tif>,\n",
       " '2025-02-25 00:00': <Asset href=http://192.168.68.114:8001/data/cogs/icenet_north/2025-01-31/forecast_init_20250131_0000_lead_20250225_0000.tif>,\n",
       " '2025-02-26 00:00': <Asset href=http://192.168.68.114:8001/data/cogs/icenet_north/2025-01-31/forecast_init_20250131_0000_lead_20250226_0000.tif>,\n",
       " '2025-02-27 00:00': <Asset href=http://192.168.68.114:8001/data/cogs/icenet_north/2025-01-31/forecast_init_20250131_0000_lead_20250227_0000.tif>,\n",
       " '2025-02-28 00:00': <Asset href=http://192.168.68.114:8001/data/cogs/icenet_north/2025-01-31/forecast_init_20250131_0000_lead_20250228_0000.tif>,\n",
       " '2025-03-01 00:00': <Asset href=http://192.168.68.114:8001/data/cogs/icenet_north/2025-01-31/forecast_init_20250131_0000_lead_20250301_0000.tif>,\n",
       " '2025-03-02 00:00': <Asset href=http://192.168.68.114:8001/data/cogs/icenet_north/2025-01-31/forecast_init_20250131_0000_lead_20250302_0000.tif>,\n",
       " '2025-03-03 00:00': <Asset href=http://192.168.68.114:8001/data/cogs/icenet_north/2025-01-31/forecast_init_20250131_0000_lead_20250303_0000.tif>,\n",
       " '2025-03-04 00:00': <Asset href=http://192.168.68.114:8001/data/cogs/icenet_north/2025-01-31/forecast_init_20250131_0000_lead_20250304_0000.tif>,\n",
       " '2025-03-05 00:00': <Asset href=http://192.168.68.114:8001/data/cogs/icenet_north/2025-01-31/forecast_init_20250131_0000_lead_20250305_0000.tif>,\n",
       " '2025-03-06 00:00': <Asset href=http://192.168.68.114:8001/data/cogs/icenet_north/2025-01-31/forecast_init_20250131_0000_lead_20250306_0000.tif>,\n",
       " '2025-03-07 00:00': <Asset href=http://192.168.68.114:8001/data/cogs/icenet_north/2025-01-31/forecast_init_20250131_0000_lead_20250307_0000.tif>,\n",
       " '2025-03-08 00:00': <Asset href=http://192.168.68.114:8001/data/cogs/icenet_north/2025-01-31/forecast_init_20250131_0000_lead_20250308_0000.tif>,\n",
       " '2025-03-09 00:00': <Asset href=http://192.168.68.114:8001/data/cogs/icenet_north/2025-01-31/forecast_init_20250131_0000_lead_20250309_0000.tif>,\n",
       " '2025-03-10 00:00': <Asset href=http://192.168.68.114:8001/data/cogs/icenet_north/2025-01-31/forecast_init_20250131_0000_lead_20250310_0000.tif>,\n",
       " '2025-03-11 00:00': <Asset href=http://192.168.68.114:8001/data/cogs/icenet_north/2025-01-31/forecast_init_20250131_0000_lead_20250311_0000.tif>,\n",
       " '2025-03-12 00:00': <Asset href=http://192.168.68.114:8001/data/cogs/icenet_north/2025-01-31/forecast_init_20250131_0000_lead_20250312_0000.tif>,\n",
       " '2025-03-13 00:00': <Asset href=http://192.168.68.114:8001/data/cogs/icenet_north/2025-01-31/forecast_init_20250131_0000_lead_20250313_0000.tif>,\n",
       " '2025-03-14 00:00': <Asset href=http://192.168.68.114:8001/data/cogs/icenet_north/2025-01-31/forecast_init_20250131_0000_lead_20250314_0000.tif>,\n",
       " '2025-03-15 00:00': <Asset href=http://192.168.68.114:8001/data/cogs/icenet_north/2025-01-31/forecast_init_20250131_0000_lead_20250315_0000.tif>,\n",
       " '2025-03-16 00:00': <Asset href=http://192.168.68.114:8001/data/cogs/icenet_north/2025-01-31/forecast_init_20250131_0000_lead_20250316_0000.tif>,\n",
       " '2025-03-17 00:00': <Asset href=http://192.168.68.114:8001/data/cogs/icenet_north/2025-01-31/forecast_init_20250131_0000_lead_20250317_0000.tif>,\n",
       " '2025-03-18 00:00': <Asset href=http://192.168.68.114:8001/data/cogs/icenet_north/2025-01-31/forecast_init_20250131_0000_lead_20250318_0000.tif>,\n",
       " '2025-03-19 00:00': <Asset href=http://192.168.68.114:8001/data/cogs/icenet_north/2025-01-31/forecast_init_20250131_0000_lead_20250319_0000.tif>,\n",
       " '2025-03-20 00:00': <Asset href=http://192.168.68.114:8001/data/cogs/icenet_north/2025-01-31/forecast_init_20250131_0000_lead_20250320_0000.tif>,\n",
       " '2025-03-21 00:00': <Asset href=http://192.168.68.114:8001/data/cogs/icenet_north/2025-01-31/forecast_init_20250131_0000_lead_20250321_0000.tif>,\n",
       " '2025-03-22 00:00': <Asset href=http://192.168.68.114:8001/data/cogs/icenet_north/2025-01-31/forecast_init_20250131_0000_lead_20250322_0000.tif>,\n",
       " '2025-03-23 00:00': <Asset href=http://192.168.68.114:8001/data/cogs/icenet_north/2025-01-31/forecast_init_20250131_0000_lead_20250323_0000.tif>,\n",
       " '2025-03-24 00:00': <Asset href=http://192.168.68.114:8001/data/cogs/icenet_north/2025-01-31/forecast_init_20250131_0000_lead_20250324_0000.tif>,\n",
       " '2025-03-25 00:00': <Asset href=http://192.168.68.114:8001/data/cogs/icenet_north/2025-01-31/forecast_init_20250131_0000_lead_20250325_0000.tif>,\n",
       " '2025-03-26 00:00': <Asset href=http://192.168.68.114:8001/data/cogs/icenet_north/2025-01-31/forecast_init_20250131_0000_lead_20250326_0000.tif>,\n",
       " '2025-03-27 00:00': <Asset href=http://192.168.68.114:8001/data/cogs/icenet_north/2025-01-31/forecast_init_20250131_0000_lead_20250327_0000.tif>,\n",
       " '2025-03-28 00:00': <Asset href=http://192.168.68.114:8001/data/cogs/icenet_north/2025-01-31/forecast_init_20250131_0000_lead_20250328_0000.tif>,\n",
       " '2025-03-29 00:00': <Asset href=http://192.168.68.114:8001/data/cogs/icenet_north/2025-01-31/forecast_init_20250131_0000_lead_20250329_0000.tif>,\n",
       " '2025-03-30 00:00': <Asset href=http://192.168.68.114:8001/data/cogs/icenet_north/2025-01-31/forecast_init_20250131_0000_lead_20250330_0000.tif>,\n",
       " '2025-03-31 00:00': <Asset href=http://192.168.68.114:8001/data/cogs/icenet_north/2025-01-31/forecast_init_20250131_0000_lead_20250331_0000.tif>,\n",
       " '2025-04-01 00:00': <Asset href=http://192.168.68.114:8001/data/cogs/icenet_north/2025-01-31/forecast_init_20250131_0000_lead_20250401_0000.tif>,\n",
       " '2025-04-02 00:00': <Asset href=http://192.168.68.114:8001/data/cogs/icenet_north/2025-01-31/forecast_init_20250131_0000_lead_20250402_0000.tif>,\n",
       " '2025-04-03 00:00': <Asset href=http://192.168.68.114:8001/data/cogs/icenet_north/2025-01-31/forecast_init_20250131_0000_lead_20250403_0000.tif>,\n",
       " '2025-04-04 00:00': <Asset href=http://192.168.68.114:8001/data/cogs/icenet_north/2025-01-31/forecast_init_20250131_0000_lead_20250404_0000.tif>,\n",
       " '2025-04-05 00:00': <Asset href=http://192.168.68.114:8001/data/cogs/icenet_north/2025-01-31/forecast_init_20250131_0000_lead_20250405_0000.tif>,\n",
       " '2025-04-06 00:00': <Asset href=http://192.168.68.114:8001/data/cogs/icenet_north/2025-01-31/forecast_init_20250131_0000_lead_20250406_0000.tif>,\n",
       " '2025-04-07 00:00': <Asset href=http://192.168.68.114:8001/data/cogs/icenet_north/2025-01-31/forecast_init_20250131_0000_lead_20250407_0000.tif>,\n",
       " '2025-04-08 00:00': <Asset href=http://192.168.68.114:8001/data/cogs/icenet_north/2025-01-31/forecast_init_20250131_0000_lead_20250408_0000.tif>,\n",
       " '2025-04-09 00:00': <Asset href=http://192.168.68.114:8001/data/cogs/icenet_north/2025-01-31/forecast_init_20250131_0000_lead_20250409_0000.tif>,\n",
       " '2025-04-10 00:00': <Asset href=http://192.168.68.114:8001/data/cogs/icenet_north/2025-01-31/forecast_init_20250131_0000_lead_20250410_0000.tif>,\n",
       " '2025-04-11 00:00': <Asset href=http://192.168.68.114:8001/data/cogs/icenet_north/2025-01-31/forecast_init_20250131_0000_lead_20250411_0000.tif>,\n",
       " '2025-04-12 00:00': <Asset href=http://192.168.68.114:8001/data/cogs/icenet_north/2025-01-31/forecast_init_20250131_0000_lead_20250412_0000.tif>,\n",
       " '2025-04-13 00:00': <Asset href=http://192.168.68.114:8001/data/cogs/icenet_north/2025-01-31/forecast_init_20250131_0000_lead_20250413_0000.tif>,\n",
       " '2025-04-14 00:00': <Asset href=http://192.168.68.114:8001/data/cogs/icenet_north/2025-01-31/forecast_init_20250131_0000_lead_20250414_0000.tif>,\n",
       " '2025-04-15 00:00': <Asset href=http://192.168.68.114:8001/data/cogs/icenet_north/2025-01-31/forecast_init_20250131_0000_lead_20250415_0000.tif>,\n",
       " '2025-04-16 00:00': <Asset href=http://192.168.68.114:8001/data/cogs/icenet_north/2025-01-31/forecast_init_20250131_0000_lead_20250416_0000.tif>,\n",
       " '2025-04-17 00:00': <Asset href=http://192.168.68.114:8001/data/cogs/icenet_north/2025-01-31/forecast_init_20250131_0000_lead_20250417_0000.tif>,\n",
       " '2025-04-18 00:00': <Asset href=http://192.168.68.114:8001/data/cogs/icenet_north/2025-01-31/forecast_init_20250131_0000_lead_20250418_0000.tif>,\n",
       " '2025-04-19 00:00': <Asset href=http://192.168.68.114:8001/data/cogs/icenet_north/2025-01-31/forecast_init_20250131_0000_lead_20250419_0000.tif>,\n",
       " '2025-04-20 00:00': <Asset href=http://192.168.68.114:8001/data/cogs/icenet_north/2025-01-31/forecast_init_20250131_0000_lead_20250420_0000.tif>,\n",
       " '2025-04-21 00:00': <Asset href=http://192.168.68.114:8001/data/cogs/icenet_north/2025-01-31/forecast_init_20250131_0000_lead_20250421_0000.tif>,\n",
       " '2025-04-22 00:00': <Asset href=http://192.168.68.114:8001/data/cogs/icenet_north/2025-01-31/forecast_init_20250131_0000_lead_20250422_0000.tif>,\n",
       " '2025-04-23 00:00': <Asset href=http://192.168.68.114:8001/data/cogs/icenet_north/2025-01-31/forecast_init_20250131_0000_lead_20250423_0000.tif>,\n",
       " '2025-04-24 00:00': <Asset href=http://192.168.68.114:8001/data/cogs/icenet_north/2025-01-31/forecast_init_20250131_0000_lead_20250424_0000.tif>,\n",
       " '2025-04-25 00:00': <Asset href=http://192.168.68.114:8001/data/cogs/icenet_north/2025-01-31/forecast_init_20250131_0000_lead_20250425_0000.tif>,\n",
       " '2025-04-26 00:00': <Asset href=http://192.168.68.114:8001/data/cogs/icenet_north/2025-01-31/forecast_init_20250131_0000_lead_20250426_0000.tif>,\n",
       " '2025-04-27 00:00': <Asset href=http://192.168.68.114:8001/data/cogs/icenet_north/2025-01-31/forecast_init_20250131_0000_lead_20250427_0000.tif>,\n",
       " '2025-04-28 00:00': <Asset href=http://192.168.68.114:8001/data/cogs/icenet_north/2025-01-31/forecast_init_20250131_0000_lead_20250428_0000.tif>,\n",
       " '2025-04-29 00:00': <Asset href=http://192.168.68.114:8001/data/cogs/icenet_north/2025-01-31/forecast_init_20250131_0000_lead_20250429_0000.tif>,\n",
       " '2025-04-30 00:00': <Asset href=http://192.168.68.114:8001/data/cogs/icenet_north/2025-01-31/forecast_init_20250131_0000_lead_20250430_0000.tif>,\n",
       " '2025-05-01 00:00': <Asset href=http://192.168.68.114:8001/data/cogs/icenet_north/2025-01-31/forecast_init_20250131_0000_lead_20250501_0000.tif>,\n",
       " '2025-05-02 00:00': <Asset href=http://192.168.68.114:8001/data/cogs/icenet_north/2025-01-31/forecast_init_20250131_0000_lead_20250502_0000.tif>,\n",
       " '2025-05-03 00:00': <Asset href=http://192.168.68.114:8001/data/cogs/icenet_north/2025-01-31/forecast_init_20250131_0000_lead_20250503_0000.tif>}"
      ]
     },
     "execution_count": 5,
     "metadata": {},
     "output_type": "execute_result"
    }
   ],
   "source": [
    "stac.get_item_cogs(collection_id, item_id)"
   ]
  },
  {
   "cell_type": "code",
   "execution_count": 6,
   "id": "87656a5d",
   "metadata": {},
   "outputs": [
    {
     "name": "stdout",
     "output_type": "stream",
     "text": [
      "First item: forecast_init_20250131_0000\n",
      "Leadtime: 93\n",
      "Collection extents: ([datetime.datetime(2025, 1, 4, 0, 0, tzinfo=tzutc()), datetime.datetime(2025, 1, 31, 0, 0, tzinfo=tzutc())], [-180.0, 16.623926693003686, 180.0, 90.0])\n",
      "Item extents: ([datetime.datetime(2025, 1, 31, 0, 0, tzinfo=tzutc()), datetime.datetime(2025, 5, 3, 0, 0, tzinfo=tzutc())], [-180.0, 16.623926693003686, 180.0, 90.0])\n"
     ]
    }
   ],
   "source": [
    "print(\"First item:\", items[0].id)\n",
    "print(\"Leadtime:\", leadtime)\n",
    "print(\"Collection extents:\", collection_extents)\n",
    "print(\"Item extents:\", item_extents)"
   ]
  },
  {
   "cell_type": "code",
   "execution_count": 7,
   "id": "817d9a5f",
   "metadata": {},
   "outputs": [
    {
     "name": "stdout",
     "output_type": "stream",
     "text": [
      "Forecast init date (type): <class 'datetime.datetime'>\n",
      "Forecast init date (first) 2025-01-04 00:00:00+00:00\n"
     ]
    }
   ],
   "source": [
    "print(\"Forecast init date (type):\", type(forecast_init_dates[0]))\n",
    "print(\"Forecast init date (first)\", forecast_init_dates[0])"
   ]
  },
  {
   "cell_type": "code",
   "execution_count": null,
   "id": "bdeb6fa7",
   "metadata": {},
   "outputs": [],
   "source": []
  }
 ],
 "metadata": {
  "kernelspec": {
   "display_name": "icenet_dashboard_pgstac_amop",
   "language": "python",
   "name": "python3"
  },
  "language_info": {
   "codemirror_mode": {
    "name": "ipython",
    "version": 3
   },
   "file_extension": ".py",
   "mimetype": "text/x-python",
   "name": "python",
   "nbconvert_exporter": "python",
   "pygments_lexer": "ipython3",
   "version": "3.13.5"
  }
 },
 "nbformat": 4,
 "nbformat_minor": 5
}
