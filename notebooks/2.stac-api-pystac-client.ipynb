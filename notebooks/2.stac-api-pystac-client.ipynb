{
 "cells": [
  {
   "cell_type": "code",
   "execution_count": 1,
   "id": "935fb51a",
   "metadata": {},
   "outputs": [],
   "source": [
    "from datetime import datetime as dt\n",
    "from typing import Iterable\n",
    "\n",
    "from dateutil import parser\n",
    "from pystac import Collection, Item, MediaType\n",
    "from pystac_client import Client, ItemSearch\n",
    "from pystac_client.stac_api_io import StacApiIO\n",
    "from urllib3 import Retry"
   ]
  },
  {
   "cell_type": "code",
   "execution_count": 2,
   "id": "4356ffbd",
   "metadata": {},
   "outputs": [
    {
     "name": "stdout",
     "output_type": "stream",
     "text": [
      "Item search: True\n",
      "icenet_north\n",
      "icenet_south\n"
     ]
    }
   ],
   "source": [
    "# Refer to pystac-client docs:\n",
    "# https://pystac-client.readthedocs.io/en/stable/usage.html\n",
    "\n",
    "retry = Retry(\n",
    "    total=5, backoff_factor=1, status_forcelist=[502, 503, 504], allowed_methods=None\n",
    ")\n",
    "stac_api_io = StacApiIO(max_retries=retry)\n",
    "\n",
    "catalog = Client.open(\n",
    "    \"http://localhost:8000\", stac_io=stac_api_io\n",
    ")\n",
    "\n",
    "# Checking if the API supports item searching\n",
    "item_search = catalog.conforms_to(\"ITEM_SEARCH\")\n",
    "print(\"Item search:\", item_search)\n",
    "\n",
    "# Get all available collections in STAC API\n",
    "for collection in catalog.get_all_collections():\n",
    "    print(collection.id)"
   ]
  },
  {
   "cell_type": "code",
   "execution_count": 3,
   "id": "ff5a0647",
   "metadata": {},
   "outputs": [],
   "source": [
    "class STAC:\n",
    "    def __init__(self, STAC_FASTAPI_URL: str) -> None:\n",
    "        self._url = STAC_FASTAPI_URL\n",
    "        self._catalog = Client.open(STAC_FASTAPI_URL)\n",
    "\n",
    "    def _search_collection(self, collection_id) -> ItemSearch:\n",
    "        search = self._catalog.search(collections=[collection_id], max_items=None)\n",
    "        return search\n",
    "\n",
    "    def _search_item(\n",
    "        self, collection_id, item_id, max_items: int | None = None\n",
    "    ) -> ItemSearch:\n",
    "        search = self._catalog.search(\n",
    "            collections=[collection_id], ids=item_id, max_items=max_items\n",
    "        )\n",
    "        return search\n",
    "\n",
    "    def get_catalog_collection_ids(\n",
    "        self, resolve: bool = False\n",
    "    ) -> Iterable[Collection] | tuple[Collection]:\n",
    "        # Get all available collections in STAC API\n",
    "        collections = self._catalog.get_all_collections()\n",
    "        return tuple(collections) if resolve else collections\n",
    "\n",
    "    def get_collection_items(self, collection_id, resolve: bool = False):\n",
    "        collection = self._catalog.get_collection(collection_id)\n",
    "        items = collection.get_items()\n",
    "        return tuple(items) if resolve else items\n",
    "\n",
    "    def get_collection_extents(self, collection_id):\n",
    "        collection = self._catalog.get_collection(collection_id)\n",
    "        print(collection)\n",
    "        temporal_extent = collection.extent.temporal.intervals[0]\n",
    "        spatial_extent = collection.extent.spatial.bboxes[0]\n",
    "        return temporal_extent, spatial_extent\n",
    "\n",
    "    def get_collection_forecast_init_dates(self, collection_id) -> list[dt]:\n",
    "        items = self.get_collection_items(collection_id)\n",
    "        datetimes = sorted(\n",
    "            {item.datetime for item in items if item.datetime is not None}\n",
    "        )\n",
    "        return datetimes\n",
    "\n",
    "    def get_item(self, collection_id, item_id) -> Item:\n",
    "        # Using db likely to be faster than using get_collection_items, then filtering here in Python.\n",
    "        search = self._search_item(collection_id, item_id)\n",
    "        item = tuple(search.items())\n",
    "        if len(item) > 1:\n",
    "            raise ValueError(\n",
    "                f\"Multiple items with id {item_id} found within {collection_id} collection.\"\n",
    "            )\n",
    "        else:\n",
    "            item = item[0]\n",
    "        return item\n",
    "\n",
    "    def get_item_properties(self, collection_id, item_id):\n",
    "        item = self.get_item(collection_id, item_id)\n",
    "        return item.properties\n",
    "\n",
    "    def get_item_leadtime(self, collection_id, item_id) -> str:\n",
    "        properties = self.get_item_properties(collection_id, item_id)\n",
    "        return properties[\"forecast:leadtime_length\"]\n",
    "\n",
    "    def get_item_extents(self, collection_id, item_id):\n",
    "        item = self.get_item(collection_id, item_id)\n",
    "        item_props = item.properties\n",
    "        temporal_extent = (\n",
    "            item_props[\"forecast:reference_time\"],\n",
    "            item_props[\"forecast:end_time\"],\n",
    "        )\n",
    "        temporal_extent = [\n",
    "            parser.isoparse(iso_string) for iso_string in temporal_extent\n",
    "        ]\n",
    "        # Convert to match datetime like `get_collection_extents`.\n",
    "        spatial_extent = item.bbox\n",
    "        return temporal_extent, spatial_extent\n",
    "\n",
    "    def get_item_cogs(self, collection_id, item_id):\n",
    "        item = self.get_item(collection_id, item_id)\n",
    "        assets = item.get_assets(media_type=MediaType.COG, role=\"data\")\n",
    "        return assets\n"
   ]
  },
  {
   "cell_type": "code",
   "execution_count": 4,
   "id": "460fc7bf",
   "metadata": {},
   "outputs": [
    {
     "name": "stdout",
     "output_type": "stream",
     "text": [
      "<CollectionClient id=icenet_north>\n"
     ]
    }
   ],
   "source": [
    "STAC_FASTAPI_URL = \"http://localhost:8000\"\n",
    "collection_id = \"icenet_north\"\n",
    "\n",
    "stac = STAC(STAC_FASTAPI_URL)\n",
    "collections = stac.get_catalog_collection_ids(resolve=True)\n",
    "items = stac.get_collection_items(collection_id, resolve=True)\n",
    "forecast_init_dates = stac.get_collection_forecast_init_dates(collection_id)\n",
    "\n",
    "item_id = items[0].id\n",
    "leadtime = stac.get_item_leadtime(collection_id, item_id)\n",
    "collection_extents = stac.get_collection_extents(collection_id)\n",
    "item_extents = stac.get_item_extents(collection_id, item_id)\n"
   ]
  },
  {
   "cell_type": "code",
   "execution_count": 5,
   "id": "13f53f1d",
   "metadata": {},
   "outputs": [
    {
     "data": {
      "text/plain": [
       "{'2025-01-31T00:00:00Z': <Asset href=http://192.168.68.114:8001/data/cogs/icenet_north/2025-01-31/forecast_init_2025-01-31T00:00:00Z_lead_2025-01-31_0000.tif>,\n",
       " '2025-02-01T00:00:00Z': <Asset href=http://192.168.68.114:8001/data/cogs/icenet_north/2025-01-31/forecast_init_2025-01-31T00:00:00Z_lead_2025-02-01_0000.tif>,\n",
       " '2025-02-02T00:00:00Z': <Asset href=http://192.168.68.114:8001/data/cogs/icenet_north/2025-01-31/forecast_init_2025-01-31T00:00:00Z_lead_2025-02-02_0000.tif>,\n",
       " '2025-02-03T00:00:00Z': <Asset href=http://192.168.68.114:8001/data/cogs/icenet_north/2025-01-31/forecast_init_2025-01-31T00:00:00Z_lead_2025-02-03_0000.tif>,\n",
       " '2025-02-04T00:00:00Z': <Asset href=http://192.168.68.114:8001/data/cogs/icenet_north/2025-01-31/forecast_init_2025-01-31T00:00:00Z_lead_2025-02-04_0000.tif>,\n",
       " '2025-02-05T00:00:00Z': <Asset href=http://192.168.68.114:8001/data/cogs/icenet_north/2025-01-31/forecast_init_2025-01-31T00:00:00Z_lead_2025-02-05_0000.tif>,\n",
       " '2025-02-06T00:00:00Z': <Asset href=http://192.168.68.114:8001/data/cogs/icenet_north/2025-01-31/forecast_init_2025-01-31T00:00:00Z_lead_2025-02-06_0000.tif>,\n",
       " '2025-02-07T00:00:00Z': <Asset href=http://192.168.68.114:8001/data/cogs/icenet_north/2025-01-31/forecast_init_2025-01-31T00:00:00Z_lead_2025-02-07_0000.tif>,\n",
       " '2025-02-08T00:00:00Z': <Asset href=http://192.168.68.114:8001/data/cogs/icenet_north/2025-01-31/forecast_init_2025-01-31T00:00:00Z_lead_2025-02-08_0000.tif>,\n",
       " '2025-02-09T00:00:00Z': <Asset href=http://192.168.68.114:8001/data/cogs/icenet_north/2025-01-31/forecast_init_2025-01-31T00:00:00Z_lead_2025-02-09_0000.tif>,\n",
       " '2025-02-10T00:00:00Z': <Asset href=http://192.168.68.114:8001/data/cogs/icenet_north/2025-01-31/forecast_init_2025-01-31T00:00:00Z_lead_2025-02-10_0000.tif>,\n",
       " '2025-02-11T00:00:00Z': <Asset href=http://192.168.68.114:8001/data/cogs/icenet_north/2025-01-31/forecast_init_2025-01-31T00:00:00Z_lead_2025-02-11_0000.tif>,\n",
       " '2025-02-12T00:00:00Z': <Asset href=http://192.168.68.114:8001/data/cogs/icenet_north/2025-01-31/forecast_init_2025-01-31T00:00:00Z_lead_2025-02-12_0000.tif>,\n",
       " '2025-02-13T00:00:00Z': <Asset href=http://192.168.68.114:8001/data/cogs/icenet_north/2025-01-31/forecast_init_2025-01-31T00:00:00Z_lead_2025-02-13_0000.tif>,\n",
       " '2025-02-14T00:00:00Z': <Asset href=http://192.168.68.114:8001/data/cogs/icenet_north/2025-01-31/forecast_init_2025-01-31T00:00:00Z_lead_2025-02-14_0000.tif>,\n",
       " '2025-02-15T00:00:00Z': <Asset href=http://192.168.68.114:8001/data/cogs/icenet_north/2025-01-31/forecast_init_2025-01-31T00:00:00Z_lead_2025-02-15_0000.tif>,\n",
       " '2025-02-16T00:00:00Z': <Asset href=http://192.168.68.114:8001/data/cogs/icenet_north/2025-01-31/forecast_init_2025-01-31T00:00:00Z_lead_2025-02-16_0000.tif>,\n",
       " '2025-02-17T00:00:00Z': <Asset href=http://192.168.68.114:8001/data/cogs/icenet_north/2025-01-31/forecast_init_2025-01-31T00:00:00Z_lead_2025-02-17_0000.tif>,\n",
       " '2025-02-18T00:00:00Z': <Asset href=http://192.168.68.114:8001/data/cogs/icenet_north/2025-01-31/forecast_init_2025-01-31T00:00:00Z_lead_2025-02-18_0000.tif>,\n",
       " '2025-02-19T00:00:00Z': <Asset href=http://192.168.68.114:8001/data/cogs/icenet_north/2025-01-31/forecast_init_2025-01-31T00:00:00Z_lead_2025-02-19_0000.tif>,\n",
       " '2025-02-20T00:00:00Z': <Asset href=http://192.168.68.114:8001/data/cogs/icenet_north/2025-01-31/forecast_init_2025-01-31T00:00:00Z_lead_2025-02-20_0000.tif>,\n",
       " '2025-02-21T00:00:00Z': <Asset href=http://192.168.68.114:8001/data/cogs/icenet_north/2025-01-31/forecast_init_2025-01-31T00:00:00Z_lead_2025-02-21_0000.tif>,\n",
       " '2025-02-22T00:00:00Z': <Asset href=http://192.168.68.114:8001/data/cogs/icenet_north/2025-01-31/forecast_init_2025-01-31T00:00:00Z_lead_2025-02-22_0000.tif>,\n",
       " '2025-02-23T00:00:00Z': <Asset href=http://192.168.68.114:8001/data/cogs/icenet_north/2025-01-31/forecast_init_2025-01-31T00:00:00Z_lead_2025-02-23_0000.tif>,\n",
       " '2025-02-24T00:00:00Z': <Asset href=http://192.168.68.114:8001/data/cogs/icenet_north/2025-01-31/forecast_init_2025-01-31T00:00:00Z_lead_2025-02-24_0000.tif>,\n",
       " '2025-02-25T00:00:00Z': <Asset href=http://192.168.68.114:8001/data/cogs/icenet_north/2025-01-31/forecast_init_2025-01-31T00:00:00Z_lead_2025-02-25_0000.tif>,\n",
       " '2025-02-26T00:00:00Z': <Asset href=http://192.168.68.114:8001/data/cogs/icenet_north/2025-01-31/forecast_init_2025-01-31T00:00:00Z_lead_2025-02-26_0000.tif>,\n",
       " '2025-02-27T00:00:00Z': <Asset href=http://192.168.68.114:8001/data/cogs/icenet_north/2025-01-31/forecast_init_2025-01-31T00:00:00Z_lead_2025-02-27_0000.tif>,\n",
       " '2025-02-28T00:00:00Z': <Asset href=http://192.168.68.114:8001/data/cogs/icenet_north/2025-01-31/forecast_init_2025-01-31T00:00:00Z_lead_2025-02-28_0000.tif>,\n",
       " '2025-03-01T00:00:00Z': <Asset href=http://192.168.68.114:8001/data/cogs/icenet_north/2025-01-31/forecast_init_2025-01-31T00:00:00Z_lead_2025-03-01_0000.tif>,\n",
       " '2025-03-02T00:00:00Z': <Asset href=http://192.168.68.114:8001/data/cogs/icenet_north/2025-01-31/forecast_init_2025-01-31T00:00:00Z_lead_2025-03-02_0000.tif>,\n",
       " '2025-03-03T00:00:00Z': <Asset href=http://192.168.68.114:8001/data/cogs/icenet_north/2025-01-31/forecast_init_2025-01-31T00:00:00Z_lead_2025-03-03_0000.tif>,\n",
       " '2025-03-04T00:00:00Z': <Asset href=http://192.168.68.114:8001/data/cogs/icenet_north/2025-01-31/forecast_init_2025-01-31T00:00:00Z_lead_2025-03-04_0000.tif>,\n",
       " '2025-03-05T00:00:00Z': <Asset href=http://192.168.68.114:8001/data/cogs/icenet_north/2025-01-31/forecast_init_2025-01-31T00:00:00Z_lead_2025-03-05_0000.tif>,\n",
       " '2025-03-06T00:00:00Z': <Asset href=http://192.168.68.114:8001/data/cogs/icenet_north/2025-01-31/forecast_init_2025-01-31T00:00:00Z_lead_2025-03-06_0000.tif>,\n",
       " '2025-03-07T00:00:00Z': <Asset href=http://192.168.68.114:8001/data/cogs/icenet_north/2025-01-31/forecast_init_2025-01-31T00:00:00Z_lead_2025-03-07_0000.tif>,\n",
       " '2025-03-08T00:00:00Z': <Asset href=http://192.168.68.114:8001/data/cogs/icenet_north/2025-01-31/forecast_init_2025-01-31T00:00:00Z_lead_2025-03-08_0000.tif>,\n",
       " '2025-03-09T00:00:00Z': <Asset href=http://192.168.68.114:8001/data/cogs/icenet_north/2025-01-31/forecast_init_2025-01-31T00:00:00Z_lead_2025-03-09_0000.tif>,\n",
       " '2025-03-10T00:00:00Z': <Asset href=http://192.168.68.114:8001/data/cogs/icenet_north/2025-01-31/forecast_init_2025-01-31T00:00:00Z_lead_2025-03-10_0000.tif>,\n",
       " '2025-03-11T00:00:00Z': <Asset href=http://192.168.68.114:8001/data/cogs/icenet_north/2025-01-31/forecast_init_2025-01-31T00:00:00Z_lead_2025-03-11_0000.tif>,\n",
       " '2025-03-12T00:00:00Z': <Asset href=http://192.168.68.114:8001/data/cogs/icenet_north/2025-01-31/forecast_init_2025-01-31T00:00:00Z_lead_2025-03-12_0000.tif>,\n",
       " '2025-03-13T00:00:00Z': <Asset href=http://192.168.68.114:8001/data/cogs/icenet_north/2025-01-31/forecast_init_2025-01-31T00:00:00Z_lead_2025-03-13_0000.tif>,\n",
       " '2025-03-14T00:00:00Z': <Asset href=http://192.168.68.114:8001/data/cogs/icenet_north/2025-01-31/forecast_init_2025-01-31T00:00:00Z_lead_2025-03-14_0000.tif>,\n",
       " '2025-03-15T00:00:00Z': <Asset href=http://192.168.68.114:8001/data/cogs/icenet_north/2025-01-31/forecast_init_2025-01-31T00:00:00Z_lead_2025-03-15_0000.tif>,\n",
       " '2025-03-16T00:00:00Z': <Asset href=http://192.168.68.114:8001/data/cogs/icenet_north/2025-01-31/forecast_init_2025-01-31T00:00:00Z_lead_2025-03-16_0000.tif>,\n",
       " '2025-03-17T00:00:00Z': <Asset href=http://192.168.68.114:8001/data/cogs/icenet_north/2025-01-31/forecast_init_2025-01-31T00:00:00Z_lead_2025-03-17_0000.tif>,\n",
       " '2025-03-18T00:00:00Z': <Asset href=http://192.168.68.114:8001/data/cogs/icenet_north/2025-01-31/forecast_init_2025-01-31T00:00:00Z_lead_2025-03-18_0000.tif>,\n",
       " '2025-03-19T00:00:00Z': <Asset href=http://192.168.68.114:8001/data/cogs/icenet_north/2025-01-31/forecast_init_2025-01-31T00:00:00Z_lead_2025-03-19_0000.tif>,\n",
       " '2025-03-20T00:00:00Z': <Asset href=http://192.168.68.114:8001/data/cogs/icenet_north/2025-01-31/forecast_init_2025-01-31T00:00:00Z_lead_2025-03-20_0000.tif>,\n",
       " '2025-03-21T00:00:00Z': <Asset href=http://192.168.68.114:8001/data/cogs/icenet_north/2025-01-31/forecast_init_2025-01-31T00:00:00Z_lead_2025-03-21_0000.tif>,\n",
       " '2025-03-22T00:00:00Z': <Asset href=http://192.168.68.114:8001/data/cogs/icenet_north/2025-01-31/forecast_init_2025-01-31T00:00:00Z_lead_2025-03-22_0000.tif>,\n",
       " '2025-03-23T00:00:00Z': <Asset href=http://192.168.68.114:8001/data/cogs/icenet_north/2025-01-31/forecast_init_2025-01-31T00:00:00Z_lead_2025-03-23_0000.tif>,\n",
       " '2025-03-24T00:00:00Z': <Asset href=http://192.168.68.114:8001/data/cogs/icenet_north/2025-01-31/forecast_init_2025-01-31T00:00:00Z_lead_2025-03-24_0000.tif>,\n",
       " '2025-03-25T00:00:00Z': <Asset href=http://192.168.68.114:8001/data/cogs/icenet_north/2025-01-31/forecast_init_2025-01-31T00:00:00Z_lead_2025-03-25_0000.tif>,\n",
       " '2025-03-26T00:00:00Z': <Asset href=http://192.168.68.114:8001/data/cogs/icenet_north/2025-01-31/forecast_init_2025-01-31T00:00:00Z_lead_2025-03-26_0000.tif>,\n",
       " '2025-03-27T00:00:00Z': <Asset href=http://192.168.68.114:8001/data/cogs/icenet_north/2025-01-31/forecast_init_2025-01-31T00:00:00Z_lead_2025-03-27_0000.tif>,\n",
       " '2025-03-28T00:00:00Z': <Asset href=http://192.168.68.114:8001/data/cogs/icenet_north/2025-01-31/forecast_init_2025-01-31T00:00:00Z_lead_2025-03-28_0000.tif>,\n",
       " '2025-03-29T00:00:00Z': <Asset href=http://192.168.68.114:8001/data/cogs/icenet_north/2025-01-31/forecast_init_2025-01-31T00:00:00Z_lead_2025-03-29_0000.tif>,\n",
       " '2025-03-30T00:00:00Z': <Asset href=http://192.168.68.114:8001/data/cogs/icenet_north/2025-01-31/forecast_init_2025-01-31T00:00:00Z_lead_2025-03-30_0000.tif>,\n",
       " '2025-03-31T00:00:00Z': <Asset href=http://192.168.68.114:8001/data/cogs/icenet_north/2025-01-31/forecast_init_2025-01-31T00:00:00Z_lead_2025-03-31_0000.tif>,\n",
       " '2025-04-01T00:00:00Z': <Asset href=http://192.168.68.114:8001/data/cogs/icenet_north/2025-01-31/forecast_init_2025-01-31T00:00:00Z_lead_2025-04-01_0000.tif>,\n",
       " '2025-04-02T00:00:00Z': <Asset href=http://192.168.68.114:8001/data/cogs/icenet_north/2025-01-31/forecast_init_2025-01-31T00:00:00Z_lead_2025-04-02_0000.tif>,\n",
       " '2025-04-03T00:00:00Z': <Asset href=http://192.168.68.114:8001/data/cogs/icenet_north/2025-01-31/forecast_init_2025-01-31T00:00:00Z_lead_2025-04-03_0000.tif>,\n",
       " '2025-04-04T00:00:00Z': <Asset href=http://192.168.68.114:8001/data/cogs/icenet_north/2025-01-31/forecast_init_2025-01-31T00:00:00Z_lead_2025-04-04_0000.tif>,\n",
       " '2025-04-05T00:00:00Z': <Asset href=http://192.168.68.114:8001/data/cogs/icenet_north/2025-01-31/forecast_init_2025-01-31T00:00:00Z_lead_2025-04-05_0000.tif>,\n",
       " '2025-04-06T00:00:00Z': <Asset href=http://192.168.68.114:8001/data/cogs/icenet_north/2025-01-31/forecast_init_2025-01-31T00:00:00Z_lead_2025-04-06_0000.tif>,\n",
       " '2025-04-07T00:00:00Z': <Asset href=http://192.168.68.114:8001/data/cogs/icenet_north/2025-01-31/forecast_init_2025-01-31T00:00:00Z_lead_2025-04-07_0000.tif>,\n",
       " '2025-04-08T00:00:00Z': <Asset href=http://192.168.68.114:8001/data/cogs/icenet_north/2025-01-31/forecast_init_2025-01-31T00:00:00Z_lead_2025-04-08_0000.tif>,\n",
       " '2025-04-09T00:00:00Z': <Asset href=http://192.168.68.114:8001/data/cogs/icenet_north/2025-01-31/forecast_init_2025-01-31T00:00:00Z_lead_2025-04-09_0000.tif>,\n",
       " '2025-04-10T00:00:00Z': <Asset href=http://192.168.68.114:8001/data/cogs/icenet_north/2025-01-31/forecast_init_2025-01-31T00:00:00Z_lead_2025-04-10_0000.tif>,\n",
       " '2025-04-11T00:00:00Z': <Asset href=http://192.168.68.114:8001/data/cogs/icenet_north/2025-01-31/forecast_init_2025-01-31T00:00:00Z_lead_2025-04-11_0000.tif>,\n",
       " '2025-04-12T00:00:00Z': <Asset href=http://192.168.68.114:8001/data/cogs/icenet_north/2025-01-31/forecast_init_2025-01-31T00:00:00Z_lead_2025-04-12_0000.tif>,\n",
       " '2025-04-13T00:00:00Z': <Asset href=http://192.168.68.114:8001/data/cogs/icenet_north/2025-01-31/forecast_init_2025-01-31T00:00:00Z_lead_2025-04-13_0000.tif>,\n",
       " '2025-04-14T00:00:00Z': <Asset href=http://192.168.68.114:8001/data/cogs/icenet_north/2025-01-31/forecast_init_2025-01-31T00:00:00Z_lead_2025-04-14_0000.tif>,\n",
       " '2025-04-15T00:00:00Z': <Asset href=http://192.168.68.114:8001/data/cogs/icenet_north/2025-01-31/forecast_init_2025-01-31T00:00:00Z_lead_2025-04-15_0000.tif>,\n",
       " '2025-04-16T00:00:00Z': <Asset href=http://192.168.68.114:8001/data/cogs/icenet_north/2025-01-31/forecast_init_2025-01-31T00:00:00Z_lead_2025-04-16_0000.tif>,\n",
       " '2025-04-17T00:00:00Z': <Asset href=http://192.168.68.114:8001/data/cogs/icenet_north/2025-01-31/forecast_init_2025-01-31T00:00:00Z_lead_2025-04-17_0000.tif>,\n",
       " '2025-04-18T00:00:00Z': <Asset href=http://192.168.68.114:8001/data/cogs/icenet_north/2025-01-31/forecast_init_2025-01-31T00:00:00Z_lead_2025-04-18_0000.tif>,\n",
       " '2025-04-19T00:00:00Z': <Asset href=http://192.168.68.114:8001/data/cogs/icenet_north/2025-01-31/forecast_init_2025-01-31T00:00:00Z_lead_2025-04-19_0000.tif>,\n",
       " '2025-04-20T00:00:00Z': <Asset href=http://192.168.68.114:8001/data/cogs/icenet_north/2025-01-31/forecast_init_2025-01-31T00:00:00Z_lead_2025-04-20_0000.tif>,\n",
       " '2025-04-21T00:00:00Z': <Asset href=http://192.168.68.114:8001/data/cogs/icenet_north/2025-01-31/forecast_init_2025-01-31T00:00:00Z_lead_2025-04-21_0000.tif>,\n",
       " '2025-04-22T00:00:00Z': <Asset href=http://192.168.68.114:8001/data/cogs/icenet_north/2025-01-31/forecast_init_2025-01-31T00:00:00Z_lead_2025-04-22_0000.tif>,\n",
       " '2025-04-23T00:00:00Z': <Asset href=http://192.168.68.114:8001/data/cogs/icenet_north/2025-01-31/forecast_init_2025-01-31T00:00:00Z_lead_2025-04-23_0000.tif>,\n",
       " '2025-04-24T00:00:00Z': <Asset href=http://192.168.68.114:8001/data/cogs/icenet_north/2025-01-31/forecast_init_2025-01-31T00:00:00Z_lead_2025-04-24_0000.tif>,\n",
       " '2025-04-25T00:00:00Z': <Asset href=http://192.168.68.114:8001/data/cogs/icenet_north/2025-01-31/forecast_init_2025-01-31T00:00:00Z_lead_2025-04-25_0000.tif>,\n",
       " '2025-04-26T00:00:00Z': <Asset href=http://192.168.68.114:8001/data/cogs/icenet_north/2025-01-31/forecast_init_2025-01-31T00:00:00Z_lead_2025-04-26_0000.tif>,\n",
       " '2025-04-27T00:00:00Z': <Asset href=http://192.168.68.114:8001/data/cogs/icenet_north/2025-01-31/forecast_init_2025-01-31T00:00:00Z_lead_2025-04-27_0000.tif>,\n",
       " '2025-04-28T00:00:00Z': <Asset href=http://192.168.68.114:8001/data/cogs/icenet_north/2025-01-31/forecast_init_2025-01-31T00:00:00Z_lead_2025-04-28_0000.tif>,\n",
       " '2025-04-29T00:00:00Z': <Asset href=http://192.168.68.114:8001/data/cogs/icenet_north/2025-01-31/forecast_init_2025-01-31T00:00:00Z_lead_2025-04-29_0000.tif>,\n",
       " '2025-04-30T00:00:00Z': <Asset href=http://192.168.68.114:8001/data/cogs/icenet_north/2025-01-31/forecast_init_2025-01-31T00:00:00Z_lead_2025-04-30_0000.tif>,\n",
       " '2025-05-01T00:00:00Z': <Asset href=http://192.168.68.114:8001/data/cogs/icenet_north/2025-01-31/forecast_init_2025-01-31T00:00:00Z_lead_2025-05-01_0000.tif>,\n",
       " '2025-05-02T00:00:00Z': <Asset href=http://192.168.68.114:8001/data/cogs/icenet_north/2025-01-31/forecast_init_2025-01-31T00:00:00Z_lead_2025-05-02_0000.tif>,\n",
       " '2025-05-03T00:00:00Z': <Asset href=http://192.168.68.114:8001/data/cogs/icenet_north/2025-01-31/forecast_init_2025-01-31T00:00:00Z_lead_2025-05-03_0000.tif>}"
      ]
     },
     "execution_count": 5,
     "metadata": {},
     "output_type": "execute_result"
    }
   ],
   "source": [
    "stac.get_item_cogs(collection_id, item_id)"
   ]
  },
  {
   "cell_type": "code",
   "execution_count": 6,
   "id": "87656a5d",
   "metadata": {},
   "outputs": [
    {
     "name": "stdout",
     "output_type": "stream",
     "text": [
      "First item: forecast_init_2025-01-31T00:00:00Z\n",
      "First forecast init time: 2025-01-31T00:00:00Z\n",
      "Leadtime: 93\n",
      "Collection extents: ([datetime.datetime(2025, 1, 4, 0, 0, tzinfo=tzutc()), datetime.datetime(2025, 1, 31, 0, 0, tzinfo=tzutc())], [-180.0, 16.623926693003686, 180.0, 90.0])\n",
      "Item extents: ([datetime.datetime(2025, 1, 31, 0, 0, tzinfo=tzutc()), datetime.datetime(2025, 5, 3, 0, 0, tzinfo=tzutc())], [-180.0, 16.623926693003686, 180.0, 90.0])\n"
     ]
    }
   ],
   "source": [
    "print(\"First item:\", items[0].id)\n",
    "print(\"First forecast init time:\", items[0].properties[\"forecast:reference_time\"])\n",
    "print(\"Leadtime:\", leadtime)\n",
    "print(\"Collection extents:\", collection_extents)\n",
    "print(\"Item extents:\", item_extents)"
   ]
  },
  {
   "cell_type": "code",
   "execution_count": 7,
   "id": "817d9a5f",
   "metadata": {},
   "outputs": [
    {
     "name": "stdout",
     "output_type": "stream",
     "text": [
      "Forecast init date (type): <class 'datetime.datetime'>\n",
      "Forecast init date (first) 2025-01-04 00:00:00+00:00\n"
     ]
    }
   ],
   "source": [
    "print(\"Forecast init date (type):\", type(forecast_init_dates[0]))\n",
    "print(\"Forecast init date (first)\", forecast_init_dates[0])"
   ]
  },
  {
   "cell_type": "code",
   "execution_count": null,
   "id": "bdeb6fa7",
   "metadata": {},
   "outputs": [],
   "source": []
  }
 ],
 "metadata": {
  "kernelspec": {
   "display_name": "icenet_dashboard_pgstac_amop",
   "language": "python",
   "name": "python3"
  },
  "language_info": {
   "codemirror_mode": {
    "name": "ipython",
    "version": 3
   },
   "file_extension": ".py",
   "mimetype": "text/x-python",
   "name": "python",
   "nbconvert_exporter": "python",
   "pygments_lexer": "ipython3",
   "version": "3.13.5"
  }
 },
 "nbformat": 4,
 "nbformat_minor": 5
}
