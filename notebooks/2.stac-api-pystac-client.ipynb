{
 "cells": [
  {
   "cell_type": "code",
   "execution_count": 30,
   "id": "935fb51a",
   "metadata": {},
   "outputs": [],
   "source": [
    "from typing import Iterable\n",
    "\n",
    "from pystac import Collection\n",
    "from pystac_client import Client\n",
    "from pystac_client.stac_api_io import StacApiIO\n",
    "from urllib3 import Retry"
   ]
  },
  {
   "cell_type": "code",
   "execution_count": 23,
   "id": "4356ffbd",
   "metadata": {},
   "outputs": [
    {
     "name": "stdout",
     "output_type": "stream",
     "text": [
      "Item search: True\n",
      "canari\n",
      "icenet\n"
     ]
    }
   ],
   "source": [
    "# Refer to pystac-client docs:\n",
    "# https://pystac-client.readthedocs.io/en/stable/usage.html\n",
    "\n",
    "retry = Retry(\n",
    "    total=5, backoff_factor=1, status_forcelist=[502, 503, 504], allowed_methods=None\n",
    ")\n",
    "stac_api_io = StacApiIO(max_retries=retry)\n",
    "\n",
    "catalog = Client.open(\n",
    "    \"http://localhost:8000\", stac_io=stac_api_io\n",
    ")\n",
    "\n",
    "# Checking if the API supports item searching\n",
    "item_search = catalog.conforms_to(\"ITEM_SEARCH\")\n",
    "print(\"Item search:\", item_search)\n",
    "\n",
    "# Get all available collections in STAC API\n",
    "for collection in catalog.get_all_collections():\n",
    "    print(collection.id)"
   ]
  },
  {
   "cell_type": "code",
   "execution_count": 56,
   "id": "ff5a0647",
   "metadata": {},
   "outputs": [],
   "source": [
    "class STAC:\n",
    "    def __init__(self, STAC_FASTAPI_URL: str) -> None:\n",
    "        self._url = STAC_FASTAPI_URL\n",
    "        self._catalog = Client.open(STAC_FASTAPI_URL)\n",
    "\n",
    "    def get_all_collection_ids(self, resolve: bool = False) -> Iterable[Collection] | tuple[Collection]:\n",
    "        # Get all available collections in STAC API\n",
    "        collections = self._catalog.get_all_collections()\n",
    "        return tuple(collections) if resolve else collections\n",
    "\n",
    "    def get_all_forecast_init_dates(self, collection_id):\n",
    "        search = self._catalog.search(collections=[collection_id], max_items=None)\n",
    "        datetimes = sorted({item.datetime for item in search.items() if item.datetime is not None})\n",
    "        return datetimes\n"
   ]
  },
  {
   "cell_type": "code",
   "execution_count": 57,
   "id": "460fc7bf",
   "metadata": {},
   "outputs": [],
   "source": [
    "STAC_FASTAPI_URL = \"http://localhost:8000\"\n",
    "collection_id = \"icenet\"\n",
    "\n",
    "stac = STAC(STAC_FASTAPI_URL)\n",
    "collections = stac.get_all_collection_ids(resolve=True)\n",
    "forecast_init_dates = stac.get_all_forecast_init_dates(collection_id)"
   ]
  },
  {
   "cell_type": "code",
   "execution_count": 58,
   "id": "817d9a5f",
   "metadata": {},
   "outputs": [
    {
     "name": "stdout",
     "output_type": "stream",
     "text": [
      "[datetime.datetime(2025, 1, 2, 0, 0, tzinfo=tzutc()), datetime.datetime(2025, 1, 3, 0, 0, tzinfo=tzutc()), datetime.datetime(2025, 1, 4, 0, 0, tzinfo=tzutc()), datetime.datetime(2025, 1, 5, 0, 0, tzinfo=tzutc()), datetime.datetime(2025, 1, 6, 0, 0, tzinfo=tzutc()), datetime.datetime(2025, 1, 7, 0, 0, tzinfo=tzutc()), datetime.datetime(2025, 1, 8, 0, 0, tzinfo=tzutc()), datetime.datetime(2025, 1, 9, 0, 0, tzinfo=tzutc()), datetime.datetime(2025, 1, 10, 0, 0, tzinfo=tzutc()), datetime.datetime(2025, 1, 11, 0, 0, tzinfo=tzutc()), datetime.datetime(2025, 1, 12, 0, 0, tzinfo=tzutc()), datetime.datetime(2025, 1, 13, 0, 0, tzinfo=tzutc()), datetime.datetime(2025, 1, 14, 0, 0, tzinfo=tzutc()), datetime.datetime(2025, 1, 15, 0, 0, tzinfo=tzutc()), datetime.datetime(2025, 1, 16, 0, 0, tzinfo=tzutc()), datetime.datetime(2025, 1, 17, 0, 0, tzinfo=tzutc()), datetime.datetime(2025, 1, 18, 0, 0, tzinfo=tzutc()), datetime.datetime(2025, 1, 20, 0, 0, tzinfo=tzutc()), datetime.datetime(2025, 1, 21, 0, 0, tzinfo=tzutc()), datetime.datetime(2025, 1, 22, 0, 0, tzinfo=tzutc()), datetime.datetime(2025, 1, 23, 0, 0, tzinfo=tzutc()), datetime.datetime(2025, 1, 24, 0, 0, tzinfo=tzutc()), datetime.datetime(2025, 1, 25, 0, 0, tzinfo=tzutc()), datetime.datetime(2025, 1, 26, 0, 0, tzinfo=tzutc()), datetime.datetime(2025, 1, 27, 0, 0, tzinfo=tzutc()), datetime.datetime(2025, 1, 28, 0, 0, tzinfo=tzutc()), datetime.datetime(2025, 1, 29, 0, 0, tzinfo=tzutc()), datetime.datetime(2025, 1, 30, 0, 0, tzinfo=tzutc())]\n"
     ]
    }
   ],
   "source": [
    "print(forecast_init_dates)"
   ]
  },
  {
   "cell_type": "code",
   "execution_count": 53,
   "id": "0bfba5cb",
   "metadata": {},
   "outputs": [
    {
     "name": "stdout",
     "output_type": "stream",
     "text": [
      "0 [datetime.datetime(2000, 2, 1, 0, 0, tzinfo=tzutc())]\n",
      "1 [datetime.datetime(2025, 1, 2, 0, 0, tzinfo=tzutc()), datetime.datetime(2025, 1, 3, 0, 0, tzinfo=tzutc()), datetime.datetime(2025, 1, 4, 0, 0, tzinfo=tzutc()), datetime.datetime(2025, 1, 5, 0, 0, tzinfo=tzutc()), datetime.datetime(2025, 1, 6, 0, 0, tzinfo=tzutc()), datetime.datetime(2025, 1, 7, 0, 0, tzinfo=tzutc()), datetime.datetime(2025, 1, 8, 0, 0, tzinfo=tzutc()), datetime.datetime(2025, 1, 9, 0, 0, tzinfo=tzutc()), datetime.datetime(2025, 1, 10, 0, 0, tzinfo=tzutc()), datetime.datetime(2025, 1, 11, 0, 0, tzinfo=tzutc()), datetime.datetime(2025, 1, 12, 0, 0, tzinfo=tzutc()), datetime.datetime(2025, 1, 13, 0, 0, tzinfo=tzutc()), datetime.datetime(2025, 1, 14, 0, 0, tzinfo=tzutc()), datetime.datetime(2025, 1, 15, 0, 0, tzinfo=tzutc()), datetime.datetime(2025, 1, 16, 0, 0, tzinfo=tzutc()), datetime.datetime(2025, 1, 17, 0, 0, tzinfo=tzutc()), datetime.datetime(2025, 1, 18, 0, 0, tzinfo=tzutc()), datetime.datetime(2025, 1, 20, 0, 0, tzinfo=tzutc()), datetime.datetime(2025, 1, 21, 0, 0, tzinfo=tzutc()), datetime.datetime(2025, 1, 22, 0, 0, tzinfo=tzutc()), datetime.datetime(2025, 1, 23, 0, 0, tzinfo=tzutc()), datetime.datetime(2025, 1, 24, 0, 0, tzinfo=tzutc()), datetime.datetime(2025, 1, 25, 0, 0, tzinfo=tzutc()), datetime.datetime(2025, 1, 26, 0, 0, tzinfo=tzutc()), datetime.datetime(2025, 1, 27, 0, 0, tzinfo=tzutc()), datetime.datetime(2025, 1, 28, 0, 0, tzinfo=tzutc()), datetime.datetime(2025, 1, 29, 0, 0, tzinfo=tzutc()), datetime.datetime(2025, 1, 30, 0, 0, tzinfo=tzutc())]\n"
     ]
    }
   ],
   "source": [
    "for i, collection in enumerate(collections):\n",
    "    search = stac._catalog.search(collections=[collection.id], max_items=None)\n",
    "    # Extract all unique datetimes\n",
    "    datetimes = sorted({item.datetime for item in search.items() if item.datetime is not None})\n",
    "    print(i, datetimes)\n"
   ]
  },
  {
   "cell_type": "code",
   "execution_count": null,
   "id": "bdeb6fa7",
   "metadata": {},
   "outputs": [],
   "source": []
  }
 ],
 "metadata": {
  "kernelspec": {
   "display_name": "icenet_dashboard_pgstac_amop",
   "language": "python",
   "name": "python3"
  },
  "language_info": {
   "codemirror_mode": {
    "name": "ipython",
    "version": 3
   },
   "file_extension": ".py",
   "mimetype": "text/x-python",
   "name": "python",
   "nbconvert_exporter": "python",
   "pygments_lexer": "ipython3",
   "version": "3.13.5"
  }
 },
 "nbformat": 4,
 "nbformat_minor": 5
}
