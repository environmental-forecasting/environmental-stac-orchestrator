{
 "cells": [
  {
   "cell_type": "code",
   "execution_count": 1,
   "id": "935fb51a",
   "metadata": {},
   "outputs": [],
   "source": [
    "import requests"
   ]
  },
  {
   "cell_type": "code",
   "execution_count": null,
   "id": "433a77b0",
   "metadata": {},
   "outputs": [],
   "source": [
    "STAC_FASTAPI_URL = \"http://localhost:8000\""
   ]
  },
  {
   "cell_type": "code",
   "execution_count": null,
   "id": "7d368f5f",
   "metadata": {},
   "outputs": [],
   "source": [
    "response = requests.get(url=f\"{STAC_FASTAPI_URL}/collections\").json()"
   ]
  },
  {
   "cell_type": "code",
   "execution_count": 29,
   "id": "59e983f2",
   "metadata": {},
   "outputs": [],
   "source": [
    "collections = response[\"collections\"]"
   ]
  },
  {
   "cell_type": "code",
   "execution_count": 30,
   "id": "00ec9fc5",
   "metadata": {},
   "outputs": [
    {
     "name": "stdout",
     "output_type": "stream",
     "text": [
      "canari\n",
      "icenet\n"
     ]
    }
   ],
   "source": [
    "for collection in collections:\n",
    "    print(collection[\"id\"])"
   ]
  },
  {
   "cell_type": "code",
   "execution_count": null,
   "id": "ff5a0647",
   "metadata": {},
   "outputs": [],
   "source": [
    "class STAC:\n",
    "    def __init__(self, STAC_FASTAPI_URL: str) -> None:\n",
    "        self._url = STAC_FASTAPI_URL\n",
    "        self._session = requests.session()\n",
    "\n",
    "    def get_collections(self):\n",
    "        response = self._session.get(url=f\"{self._url}/collections\").json()\n",
    "        collections = response[\"collections\"]\n",
    "        return collections\n",
    "\n",
    "    def get_collection_ids(self):\n",
    "        collections = self.get_collections()\n",
    "        for collection in collections:\n",
    "            print(collection[\"id\"])\n"
   ]
  },
  {
   "cell_type": "code",
   "execution_count": 42,
   "id": "460fc7bf",
   "metadata": {},
   "outputs": [
    {
     "name": "stdout",
     "output_type": "stream",
     "text": [
      "canari\n",
      "icenet\n"
     ]
    }
   ],
   "source": [
    "STAC_FASTAPI_URL = \"http://localhost:8000\"\n",
    "\n",
    "stac = STAC(STAC_FASTAPI_URL)\n",
    "stac.get_collections()\n",
    "stac.get_collection_ids()"
   ]
  },
  {
   "cell_type": "code",
   "execution_count": null,
   "id": "0bfba5cb",
   "metadata": {},
   "outputs": [],
   "source": []
  }
 ],
 "metadata": {
  "kernelspec": {
   "display_name": "icenet_dashboard_pgstac_amop",
   "language": "python",
   "name": "python3"
  },
  "language_info": {
   "codemirror_mode": {
    "name": "ipython",
    "version": 3
   },
   "file_extension": ".py",
   "mimetype": "text/x-python",
   "name": "python",
   "nbconvert_exporter": "python",
   "pygments_lexer": "ipython3",
   "version": "3.13.5"
  }
 },
 "nbformat": 4,
 "nbformat_minor": 5
}
